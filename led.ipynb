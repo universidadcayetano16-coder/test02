{
  "nbformat": 4,
  "nbformat_minor": 0,
  "metadata": {
    "colab": {
      "provenance": [],
      "authorship_tag": "ABX9TyNGWtlsU+4gMq7a2EnV/uPB",
      "include_colab_link": true
    },
    "kernelspec": {
      "name": "python3",
      "display_name": "Python 3"
    },
    "language_info": {
      "name": "python"
    }
  },
  "cells": [
    {
      "cell_type": "markdown",
      "metadata": {
        "id": "view-in-github",
        "colab_type": "text"
      },
      "source": [
        "<a href=\"https://colab.research.google.com/github/universidadcayetano16-coder/test02/blob/main/led.ipynb\" target=\"_parent\"><img src=\"https://colab.research.google.com/assets/colab-badge.svg\" alt=\"Open In Colab\"/></a>"
      ]
    },
    {
      "cell_type": "code",
      "execution_count": 1,
      "metadata": {
        "colab": {
          "base_uri": "https://localhost:8080/"
        },
        "id": "F5S9g9VTDy4p",
        "outputId": "7792e88b-948f-4f93-ac08-c6f759e3c66e"
      },
      "outputs": [
        {
          "output_type": "stream",
          "name": "stdout",
          "text": [
            "Simulating LED...\n",
            "LED is ON\n",
            "LED is OFF\n",
            "LED is ON\n",
            "LED is OFF\n",
            "LED is ON\n",
            "Simulation finished.\n"
          ]
        }
      ],
      "source": [
        "import time\n",
        "\n",
        "# Simulate an LED state (True for on, False for off)\n",
        "led_state = False\n",
        "\n",
        "print(\"Simulating LED...\")\n",
        "\n",
        "# Simulate the LED turning on and off\n",
        "try:\n",
        "    for _ in range(5): # Simulate 5 cycles\n",
        "        led_state = not led_state # Toggle the state\n",
        "        if led_state:\n",
        "            print(\"LED is ON\")\n",
        "        else:\n",
        "            print(\"LED is OFF\")\n",
        "        time.sleep(1) # Wait for 1 second\n",
        "\n",
        "except KeyboardInterrupt:\n",
        "    print(\"\\nSimulation stopped by user.\")\n",
        "\n",
        "print(\"Simulation finished.\")"
      ]
    }
  ]
}